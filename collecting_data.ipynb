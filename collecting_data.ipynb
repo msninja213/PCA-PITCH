{
 "cells": [
  {
   "cell_type": "code",
   "execution_count": 58,
   "metadata": {},
   "outputs": [],
   "source": [
    "import pandas as pd\n",
    "import requests as r\n",
    "import yfinance as yf\n",
    "API_KEY = '31ZRU0FU0BZ1H40A' # for alpha vantage\n"
   ]
  },
  {
   "cell_type": "code",
   "execution_count": 59,
   "metadata": {},
   "outputs": [],
   "source": [
    "# # For Polygon do not delete\n",
    "# API_KEY = \"tn4NSpJrJycbY85Tn2rUcuEo_JER8jqR\"\n",
    "# URL =  'https://api.polygon.io/v2/aggs/ticker/AAPL/range/1/day/2023-01-09/2023-01-15?adjusted=true&sort=asc&limit=120&apiKey='+ API_KEY\n",
    "# response = r.get(URL)\n",
    "# # response\n",
    "# data = response.json()['results']\n",
    "# pd.DataFrame(data)\n",
    "\n",
    "# # make function that takes in diff parameters instead of restclient"
   ]
  },
  {
   "cell_type": "code",
   "execution_count": 60,
   "metadata": {},
   "outputs": [],
   "source": [
    "# def get_stock_data(ticker, beg_date, end_date):\n",
    "#         URL =  'https://api.polygon.io/v2/aggs/ticker/{ticker}/range/1/day/{beg_date}/{end_date}?adjusted=true&sort=asc&limit=120&apiKey={API_KEY}'.format(ticker = ticker, beg_date = beg_date, end_date = end_date, API_KEY = API_KEY)\n",
    "#         response = r.get(URL)\n",
    "#         data = response.json()['results']\n",
    "#         df = pd.DataFrame(data)\n",
    "\n",
    "#         df['t'] = pd.to_datetime(df['t'], unit = 'ms') - pd.Timedelta(hours = 4) # convert to eastern time\n",
    "#         #df.index = df['t']\n",
    "#         df.set_index('t', inplace=True)\n",
    "        \n",
    "#         return df\n",
    "        \n"
   ]
  },
  {
   "cell_type": "code",
   "execution_count": 61,
   "metadata": {},
   "outputs": [],
   "source": [
    "# get_stock_data('RH', '2023-01-03', '2023-01-07')"
   ]
  },
  {
   "cell_type": "code",
   "execution_count": 62,
   "metadata": {},
   "outputs": [],
   "source": [
    "data = pd.read_csv('test2 - Sheet1.csv')\n",
    "# print(data)"
   ]
  },
  {
   "cell_type": "code",
   "execution_count": 63,
   "metadata": {},
   "outputs": [],
   "source": [
    "def get_beta(ticker):\n",
    "    try:\n",
    "        stock = yf.Ticker(ticker)\n",
    "        beta = stock.info['beta']\n",
    "        return beta\n",
    "    except Exception as e:\n",
    "        return None\n",
    "\n",
    "def get_10_day(ticker):\n",
    "    try:\n",
    "        stock = yf.Ticker(ticker)\n",
    "        ten_day = stock.info['averageDailyVolume10Day']\n",
    "        return ten_day\n",
    "    except Exception as e:\n",
    "        return None\n",
    "    \n",
    "def get_average_vol(ticker):\n",
    "    try:\n",
    "        stock = yf.Ticker(ticker)\n",
    "        ave_vol = stock.info['regularMarketVolume']\n",
    "        return ave_vol\n",
    "    except Exception as e:\n",
    "        return None\n",
    "    \n",
    "# def current_price(ticker):\n",
    "#     try:\n",
    "#         stock = yf.Ticker(ticker)\n",
    "#         current_price = stock.info['regularMarketPrice']\n",
    "#         return current_price\n",
    "#     except Exception as e:\n",
    "#         return None \n",
    "\n",
    "\n",
    "def div_yield(ticker):\n",
    "    try:\n",
    "        stock = yf.Ticker(ticker)\n",
    "        div_yield = stock.info['dividendYield']\n",
    "        return div_yield\n",
    "    except Exception as e:\n",
    "        return None \n",
    "    "
   ]
  },
  {
   "cell_type": "code",
   "execution_count": 64,
   "metadata": {},
   "outputs": [],
   "source": [
    "\n",
    "# Apply get_beta function to 'Ticker' column and store results in a new column 'Beta'\n",
    "# data['Beta'] = data['Stock'].apply(get_beta)\n",
    "\n",
    "# data['Average 10 day vol'] = data['Stock'].apply(get_10_day)\n",
    "\n",
    "# data['Average vol'] = data['Stock'].apply(get_average_vol)\n",
    "\n",
    "# data['Current Price'] = data['Stock'].apply(get_average_vol)\n",
    "\n",
    "data['Dividend Yield'] = data['Stock'].apply(div_yield)\n",
    "\n",
    "\n",
    "# Save the updated DataFrame back to the CSV file\n",
    "data.to_csv('test2 - Sheet1.csv', index=False)"
   ]
  }
 ],
 "metadata": {
  "kernelspec": {
   "display_name": "Python 3",
   "language": "python",
   "name": "python3"
  },
  "language_info": {
   "codemirror_mode": {
    "name": "ipython",
    "version": 3
   },
   "file_extension": ".py",
   "mimetype": "text/x-python",
   "name": "python",
   "nbconvert_exporter": "python",
   "pygments_lexer": "ipython3",
   "version": "3.11.9"
  }
 },
 "nbformat": 4,
 "nbformat_minor": 2
}
